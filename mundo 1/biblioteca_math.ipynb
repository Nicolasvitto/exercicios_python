{
 "cells": [
  {
   "cell_type": "markdown",
   "metadata": {},
   "source": [
    "#### biblioteca \n",
    "##### math "
   ]
  },
  {
   "cell_type": "code",
   "execution_count": 5,
   "metadata": {},
   "outputs": [
    {
     "name": "stdout",
     "output_type": "stream",
     "text": [
      "a raiz quadrada de 29 é igual a 5.39\n"
     ]
    }
   ],
   "source": [
    "import math\n",
    "num = int(input('digite um numero: '))\n",
    "raiz = math.sqrt(num)  #sqrt calcula a raiz quadrada\n",
    "print('a raiz quadrada de {} é igual a {:.2f}'.format(num, raiz))\n",
    "\n",
    "#math.floor aredonda o numero para baixo \n",
    "#math.ceil aredonda o numero para cima\n",
    "\n"
   ]
  },
  {
   "cell_type": "code",
   "execution_count": 8,
   "metadata": {},
   "outputs": [
    {
     "name": "stdout",
     "output_type": "stream",
     "text": [
      "a raiz quadrada de 29 é igual a 5.00\n"
     ]
    }
   ],
   "source": [
    "from math import sqrt, floor\n",
    "\n",
    "num = int(input('digite um numero: '))\n",
    "raiz = sqrt(num)  #sqrt calcula a raiz quadrada\n",
    "print('a raiz quadrada de {} é igual a {:.2f}'.format(num, floor(raiz)))\n",
    "\n",
    "#math.floor aredonda o numero para baixo \n",
    "#math.ceil aredonda o numero para cima\n"
   ]
  },
  {
   "cell_type": "code",
   "execution_count": 26,
   "metadata": {},
   "outputs": [
    {
     "name": "stdout",
     "output_type": "stream",
     "text": [
      "3\n"
     ]
    }
   ],
   "source": [
    "import random\n",
    "num = random.randint(1, 10)\n",
    "print(num)"
   ]
  },
  {
   "cell_type": "markdown",
   "metadata": {},
   "source": [
    "### biblioteca de emojis"
   ]
  },
  {
   "cell_type": "code",
   "execution_count": 38,
   "metadata": {},
   "outputs": [
    {
     "name": "stdout",
     "output_type": "stream",
     "text": [
      "te amo ❤️\n"
     ]
    }
   ],
   "source": [
    "import emoji\n",
    "print(emoji.emojize(\"te amo :red_heart:\", variant=\"emoji_type\"))"
   ]
  }
 ],
 "metadata": {
  "kernelspec": {
   "display_name": "Python 3",
   "language": "python",
   "name": "python3"
  },
  "language_info": {
   "codemirror_mode": {
    "name": "ipython",
    "version": 3
   },
   "file_extension": ".py",
   "mimetype": "text/x-python",
   "name": "python",
   "nbconvert_exporter": "python",
   "pygments_lexer": "ipython3",
   "version": "3.12.3"
  }
 },
 "nbformat": 4,
 "nbformat_minor": 2
}
